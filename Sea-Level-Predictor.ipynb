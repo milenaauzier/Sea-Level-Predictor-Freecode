{
 "cells": [
  {
   "cell_type": "markdown",
   "id": "5e6b734b-1b82-4968-842d-c614d24af741",
   "metadata": {},
   "source": [
    "## Sea Level Predictor \n",
    "\n",
    "You will analyze a dataset of the global average sea level change since 1880. You will use the data to predict the sea level change through year 2050."
   ]
  },
  {
   "cell_type": "markdown",
   "id": "5bc9e46b-9f39-4740-89d0-3db69df765f3",
   "metadata": {},
   "source": [
    "Use the data to complete the following tasks:\n",
    "\n",
    "- Use Pandas to import the data from epa-sea-level.csv.\n",
    "- Use matplotlib to create a scatter plot using the \"Year\" column as the x-axis and the \"CSIRO Adjusted Sea Level\" column as the y-axix.\n",
    "- Use the linregress function from scipy.stats to get the slope and y-intercept of the line of best fit. Plot the line of best fit over the top of the scatter plot. Make the line go through the year 2050 to predict the sea level rise in 2050.\n",
    "- Plot a new line of best fit just using the data from year 2000 through the most recent year in the dataset. Make the line also go through the year 2050 to predict the sea level rise in 2050 if the rate of rise continues as it has since the year 2000.\n",
    "- The x label should be \"Year\", the y label should be \"Sea Level (inches)\", and the title should be \"Rise in Sea Level\"."
   ]
  },
  {
   "cell_type": "code",
   "execution_count": 38,
   "id": "9bdf4c17-2242-433d-ac41-cc4b0d9fb031",
   "metadata": {},
   "outputs": [],
   "source": [
    "import pandas as pd \n",
    "import matplotlib.pyplot as plt \n",
    "import numpy as np\n",
    "from scipy.stats import stats\n",
    "import seaborn as sns"
   ]
  },
  {
   "cell_type": "code",
   "execution_count": 39,
   "id": "f87b2ad2-3c38-4a96-bfb8-5b2671681201",
   "metadata": {},
   "outputs": [],
   "source": [
    "path = \"C:/Users/milen/Desktop/Python_freecode/esl.csv\""
   ]
  },
  {
   "cell_type": "code",
   "execution_count": 40,
   "id": "ecf64d99-d5a4-48ee-a4ae-b11c63ca2ddd",
   "metadata": {},
   "outputs": [],
   "source": [
    "df = pd.read_csv(path).rename(columns = {\n",
    "                            \"Year\": \"year\", \n",
    "                             \"CSIRO Adjusted Sea Level\": \"sea\",\n",
    "})"
   ]
  },
  {
   "cell_type": "code",
   "execution_count": 41,
   "id": "7b97b017-da2e-4c52-b5c0-4db992b800e9",
   "metadata": {},
   "outputs": [
    {
     "data": {
      "text/html": [
       "<div>\n",
       "<style scoped>\n",
       "    .dataframe tbody tr th:only-of-type {\n",
       "        vertical-align: middle;\n",
       "    }\n",
       "\n",
       "    .dataframe tbody tr th {\n",
       "        vertical-align: top;\n",
       "    }\n",
       "\n",
       "    .dataframe thead th {\n",
       "        text-align: right;\n",
       "    }\n",
       "</style>\n",
       "<table border=\"1\" class=\"dataframe\">\n",
       "  <thead>\n",
       "    <tr style=\"text-align: right;\">\n",
       "      <th></th>\n",
       "      <th>year</th>\n",
       "      <th>sea</th>\n",
       "      <th>Lower Error Bound</th>\n",
       "      <th>Upper Error Bound</th>\n",
       "      <th>NOAA Adjusted Sea Level</th>\n",
       "    </tr>\n",
       "  </thead>\n",
       "  <tbody>\n",
       "    <tr>\n",
       "      <th>0</th>\n",
       "      <td>1880</td>\n",
       "      <td>0.000000</td>\n",
       "      <td>-0.952756</td>\n",
       "      <td>0.952756</td>\n",
       "      <td>NaN</td>\n",
       "    </tr>\n",
       "    <tr>\n",
       "      <th>1</th>\n",
       "      <td>1881</td>\n",
       "      <td>0.220472</td>\n",
       "      <td>-0.732283</td>\n",
       "      <td>1.173228</td>\n",
       "      <td>NaN</td>\n",
       "    </tr>\n",
       "    <tr>\n",
       "      <th>2</th>\n",
       "      <td>1882</td>\n",
       "      <td>-0.440945</td>\n",
       "      <td>-1.346457</td>\n",
       "      <td>0.464567</td>\n",
       "      <td>NaN</td>\n",
       "    </tr>\n",
       "    <tr>\n",
       "      <th>3</th>\n",
       "      <td>1883</td>\n",
       "      <td>-0.232283</td>\n",
       "      <td>-1.129921</td>\n",
       "      <td>0.665354</td>\n",
       "      <td>NaN</td>\n",
       "    </tr>\n",
       "    <tr>\n",
       "      <th>4</th>\n",
       "      <td>1884</td>\n",
       "      <td>0.590551</td>\n",
       "      <td>-0.283465</td>\n",
       "      <td>1.464567</td>\n",
       "      <td>NaN</td>\n",
       "    </tr>\n",
       "    <tr>\n",
       "      <th>...</th>\n",
       "      <td>...</td>\n",
       "      <td>...</td>\n",
       "      <td>...</td>\n",
       "      <td>...</td>\n",
       "      <td>...</td>\n",
       "    </tr>\n",
       "    <tr>\n",
       "      <th>130</th>\n",
       "      <td>2010</td>\n",
       "      <td>8.901575</td>\n",
       "      <td>8.618110</td>\n",
       "      <td>9.185039</td>\n",
       "      <td>8.122973</td>\n",
       "    </tr>\n",
       "    <tr>\n",
       "      <th>131</th>\n",
       "      <td>2011</td>\n",
       "      <td>8.964567</td>\n",
       "      <td>8.661417</td>\n",
       "      <td>9.267717</td>\n",
       "      <td>8.053065</td>\n",
       "    </tr>\n",
       "    <tr>\n",
       "      <th>132</th>\n",
       "      <td>2012</td>\n",
       "      <td>9.326772</td>\n",
       "      <td>8.992126</td>\n",
       "      <td>9.661417</td>\n",
       "      <td>8.457058</td>\n",
       "    </tr>\n",
       "    <tr>\n",
       "      <th>133</th>\n",
       "      <td>2013</td>\n",
       "      <td>8.980315</td>\n",
       "      <td>8.622047</td>\n",
       "      <td>9.338583</td>\n",
       "      <td>8.546648</td>\n",
       "    </tr>\n",
       "    <tr>\n",
       "      <th>134</th>\n",
       "      <td>2014</td>\n",
       "      <td>NaN</td>\n",
       "      <td>NaN</td>\n",
       "      <td>NaN</td>\n",
       "      <td>8.663700</td>\n",
       "    </tr>\n",
       "  </tbody>\n",
       "</table>\n",
       "<p>135 rows × 5 columns</p>\n",
       "</div>"
      ],
      "text/plain": [
       "     year       sea  Lower Error Bound  Upper Error Bound  \\\n",
       "0    1880  0.000000          -0.952756           0.952756   \n",
       "1    1881  0.220472          -0.732283           1.173228   \n",
       "2    1882 -0.440945          -1.346457           0.464567   \n",
       "3    1883 -0.232283          -1.129921           0.665354   \n",
       "4    1884  0.590551          -0.283465           1.464567   \n",
       "..    ...       ...                ...                ...   \n",
       "130  2010  8.901575           8.618110           9.185039   \n",
       "131  2011  8.964567           8.661417           9.267717   \n",
       "132  2012  9.326772           8.992126           9.661417   \n",
       "133  2013  8.980315           8.622047           9.338583   \n",
       "134  2014       NaN                NaN                NaN   \n",
       "\n",
       "     NOAA Adjusted Sea Level  \n",
       "0                        NaN  \n",
       "1                        NaN  \n",
       "2                        NaN  \n",
       "3                        NaN  \n",
       "4                        NaN  \n",
       "..                       ...  \n",
       "130                 8.122973  \n",
       "131                 8.053065  \n",
       "132                 8.457058  \n",
       "133                 8.546648  \n",
       "134                 8.663700  \n",
       "\n",
       "[135 rows x 5 columns]"
      ]
     },
     "execution_count": 41,
     "metadata": {},
     "output_type": "execute_result"
    }
   ],
   "source": [
    "df"
   ]
  },
  {
   "cell_type": "code",
   "execution_count": 42,
   "id": "38301061-eda3-4cd1-b654-b4fae0f61766",
   "metadata": {},
   "outputs": [
    {
     "data": {
      "image/png": "[encoded data removed]",
      "text/plain": [
       "<Figure size 432x288 with 1 Axes>"
      ]
     },
     "metadata": {
      "needs_background": "light"
     },
     "output_type": "display_data"
    }
   ],
   "source": [
    "plt.scatter(x = df['year'], y = df['sea'], alpha = 0.5)\n",
    "plt.show()"
   ]
  },
  {
   "cell_type": "code",
   "execution_count": 75,
   "id": "43d57c65-98ab-4c91-a619-356c8f02f3a5",
   "metadata": {},
   "outputs": [],
   "source": [
    "x =df['year']\n",
    "y= df['sea']"
   ]
  },
  {
   "cell_type": "code",
   "execution_count": 77,
   "id": "acd5131d-6add-49dc-8fb7-dccaa0bbe294",
   "metadata": {},
   "outputs": [],
   "source": [
    "mask = ~np.isnan(x) & ~np.isnan(y)\n",
    "slope, intercept, r, p, se = linregress(x[mask],y[mask])"
   ]
  },
  {
   "cell_type": "code",
   "execution_count": 78,
   "id": "0515ab7b-bea1-4913-b657-2446c37b7746",
   "metadata": {},
   "outputs": [
    {
     "data": {
      "text/plain": [
       "0.06304458401213482"
      ]
     },
     "execution_count": 78,
     "metadata": {},
     "output_type": "execute_result"
    }
   ],
   "source": [
    "slope"
   ]
  },
  {
   "cell_type": "code",
   "execution_count": 79,
   "id": "2798141a-a24f-4588-ab22-b07bc3aee5a9",
   "metadata": {},
   "outputs": [
    {
     "data": {
      "text/plain": [
       "-119.06594196773983"
      ]
     },
     "execution_count": 79,
     "metadata": {},
     "output_type": "execute_result"
    }
   ],
   "source": [
    "intercept"
   ]
  },
  {
   "cell_type": "code",
   "execution_count": 121,
   "id": "1b22396b-8bf4-4ee1-8d98-a214f33ef7dc",
   "metadata": {},
   "outputs": [
    {
     "data": {
      "image/png": "[encoded data removed]",
      "text/plain": [
       "<Figure size 432x288 with 1 Axes>"
      ]
     },
     "metadata": {
      "needs_background": "light"
     },
     "output_type": "display_data"
    }
   ],
   "source": [
    "plt.plot(x, y , 'o', label = 'original data')\n",
    "plt.plot(x, intercept + slope*x, 'r', label = 'fitted line')\n",
    "plt.legend()\n",
    "plt.xlabel('Year')\n",
    "plt.ylabel('Sea Level')\n",
    "plt.title('Rise in Sea Level')\n",
    "plt.show()"
   ]
  },
  {
   "cell_type": "code",
   "execution_count": 57,
   "id": "9a4bf986-4a5c-4be0-8976-c96e48df8c48",
   "metadata": {},
   "outputs": [],
   "source": [
    "l = linregress(x[mask],y[mask])\n",
    "x2 = np.arange(x[mask].min(), 2050, 1)\n",
    "y2 = x2*l.slope+ l.intercept"
   ]
  },
  {
   "cell_type": "code",
   "execution_count": 122,
   "id": "afba5bd9-b9ef-4faf-9a21-789143034308",
   "metadata": {},
   "outputs": [
    {
     "data": {
      "image/png": "[encoded data removed]",
      "text/plain": [
       "<Figure size 432x288 with 1 Axes>"
      ]
     },
     "metadata": {
      "needs_background": "light"
     },
     "output_type": "display_data"
    }
   ],
   "source": [
    "plt.plot(x2,y2)\n",
    "plt.xlabel('Year')\n",
    "plt.ylabel('Sea Level')\n",
    "plt.title('Rise in Sea Level')\n",
    "plt.show()"
   ]
  },
  {
   "cell_type": "code",
   "execution_count": 72,
   "id": "40211680-59e4-4300-b607-9970230dbcc9",
   "metadata": {},
   "outputs": [],
   "source": [
    "x_2000 = df[df['year']>= 2000]"
   ]
  },
  {
   "cell_type": "code",
   "execution_count": 101,
   "id": "31ee638a-94cf-45c6-8081-6fa78b3e8b71",
   "metadata": {},
   "outputs": [],
   "source": [
    "x_2000_x = df['year']"
   ]
  },
  {
   "cell_type": "code",
   "execution_count": 107,
   "id": "54289222-6499-4f83-bd82-28e805fc72f5",
   "metadata": {},
   "outputs": [],
   "source": [
    "mask2 = ~np.isnan(x_2000_x) & ~np.isnan(y)\n",
    "slope, intercept, r, p, se = linregress(x_2000_x[mask2],y[mask2])"
   ]
  },
  {
   "cell_type": "code",
   "execution_count": 114,
   "id": "ea678c4a-932e-41f2-9262-9d46075398ca",
   "metadata": {},
   "outputs": [],
   "source": [
    "l2 = linregress(x_2000_x[mask2], y[mask2])"
   ]
  },
  {
   "cell_type": "code",
   "execution_count": 115,
   "id": "e3fa7ea2-24e8-48dc-ae77-212d5edcb1f7",
   "metadata": {},
   "outputs": [],
   "source": [
    "x3 = np.arange(2000, 2050, 1)"
   ]
  },
  {
   "cell_type": "code",
   "execution_count": 116,
   "id": "2c4873ed-7348-4502-867f-0aab33434637",
   "metadata": {},
   "outputs": [],
   "source": [
    "y3 = x3 * l2.slope + l2.intercept"
   ]
  },
  {
   "cell_type": "code",
   "execution_count": 120,
   "id": "0b773b99-8b32-48b3-837c-716bf4a33a24",
   "metadata": {},
   "outputs": [
    {
     "data": {
      "image/png": "[encoded data removed]",
      "text/plain": [
       "<Figure size 432x288 with 1 Axes>"
      ]
     },
     "metadata": {
      "needs_background": "light"
     },
     "output_type": "display_data"
    }
   ],
   "source": [
    "plt.plot(x3, y3)\n",
    "plt.xlabel('Year')\n",
    "plt.ylabel('Sea Level (inches)')\n",
    "plt.title('Rise in Sea Level')\n",
    "plt.savefig('sea_level_plot.png')"
   ]
  }
 ],
 "metadata": {
  "kernelspec": {
   "display_name": "Python 3",
   "language": "python",
   "name": "python3"
  },
  "language_info": {
   "codemirror_mode": {
    "name": "ipython",
    "version": 3
   },
   "file_extension": ".py",
   "mimetype": "text/x-python",
   "name": "python",
   "nbconvert_exporter": "python",
   "pygments_lexer": "ipython3",
   "version": "3.8.8"
  }
 },
 "nbformat": 4,
 "nbformat_minor": 5
}
